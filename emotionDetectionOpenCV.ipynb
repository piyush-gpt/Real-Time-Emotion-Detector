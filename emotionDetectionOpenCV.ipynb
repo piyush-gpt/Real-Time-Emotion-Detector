{
 "cells": [
  {
   "cell_type": "code",
   "execution_count": 14,
   "id": "a25f5267-f8d8-40a1-82db-210089caef49",
   "metadata": {},
   "outputs": [],
   "source": [
    "import numpy as np\n",
    "from tensorflow.keras.models import load_model\n",
    "import cv2"
   ]
  },
  {
   "cell_type": "code",
   "execution_count": 15,
   "id": "5ef76c5d-7921-4f3b-86a0-a04454307154",
   "metadata": {},
   "outputs": [],
   "source": [
    "face_classifier=cv2.CascadeClassifier(\"C:\\\\Users\\\\lenovo\\\\Downloads\\\\haarcascade_frontalface_default.xml\")"
   ]
  },
  {
   "cell_type": "code",
   "execution_count": 16,
   "id": "bf3ed31e-1c93-464d-9c72-52b9a7ae3df7",
   "metadata": {},
   "outputs": [
    {
     "name": "stderr",
     "output_type": "stream",
     "text": [
      "WARNING:absl:Compiled the loaded model, but the compiled metrics have yet to be built. `model.compile_metrics` will be empty until you train or evaluate the model.\n"
     ]
    }
   ],
   "source": [
    "classifier=load_model(\"emotionRecognition.h5\")"
   ]
  },
  {
   "cell_type": "code",
   "execution_count": 22,
   "id": "7a2aa727-e7e2-46c2-866e-4f99fb231e9c",
   "metadata": {},
   "outputs": [],
   "source": [
    "labels=[\"angry\",\"happy\",\"sad\",\"surprised\"]\n",
    "cap=cv2.VideoCapture(0)\n",
    "\n",
    "while True:\n",
    "    _,frame=cap.read()\n",
    "    frame=cv2.flip(frame,1)\n",
    "    gray=cv2.cvtColor(frame, cv2.COLOR_BGR2GRAY)\n",
    "    faces=face_classifier.detectMultiScale(gray)\n",
    "    for(x,y,w,h) in faces:\n",
    "        cv2.rectangle(frame,(x,y),(x+w,y+h), (0,255,255),2)\n",
    "        face_gray=gray[y:y+h,x:x+w]\n",
    "        face_gray = cv2.resize(face_gray, (48,48), interpolation=cv2.INTER_AREA)\n",
    "        if np.sum([face_gray])!=0:\n",
    "            face_normalized = face_gray.astype('float')/255.0\n",
    "            face_normalized = np.expand_dims(face_normalized, axis=0) # to convert 48*48 to 1*48*48\n",
    "            prediction = classifier.predict(face_normalized)[0]\n",
    "            label=labels[prediction.argmax()]\n",
    "            label_position = (x,y-10)\n",
    "            cv2.putText(frame,label, label_position,cv2.FONT_HERSHEY_SIMPLEX,1,(0,255,0),2)\n",
    "        else:\n",
    "            cv2.putText(frame, 'No Faces', (30,80),cv2.FONT_HERSHEY_SIMPLEX,1,(0,255,0),2)\n",
    "\n",
    "    cv2.imshow('Emotion Detector', frame)\n",
    "    if cv2.waitKey(1) & 0xFF == ord('q'):\n",
    "        break\n",
    "cap.release()\n",
    "cv2.destroyAllWindows()\n",
    "        "
   ]
  }
 ],
 "metadata": {
  "kernelspec": {
   "display_name": "Python 3 (ipykernel)",
   "language": "python",
   "name": "python3"
  },
  "language_info": {
   "codemirror_mode": {
    "name": "ipython",
    "version": 3
   },
   "file_extension": ".py",
   "mimetype": "text/x-python",
   "name": "python",
   "nbconvert_exporter": "python",
   "pygments_lexer": "ipython3",
   "version": "3.12.2"
  }
 },
 "nbformat": 4,
 "nbformat_minor": 5
}
